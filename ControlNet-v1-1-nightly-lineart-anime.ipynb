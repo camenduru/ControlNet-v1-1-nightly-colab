{
  "cells": [
    {
      "cell_type": "markdown",
      "metadata": {
        "id": "view-in-github"
      },
      "source": [
        "[![Open In Colab](https://colab.research.google.com/assets/colab-badge.svg)](https://colab.research.google.com/github/camenduru/ControlNet-v1-1-nightly-colab/blob/main/ControlNet-v1-1-nightly-lineart-anime.ipynb)"
      ]
    },
    {
      "cell_type": "code",
      "execution_count": null,
      "metadata": {
        "id": "xNrvuLUUekxr"
      },
      "outputs": [],
      "source": [
        "%cd /content\n",
        "!git clone https://github.com/lllyasviel/ControlNet-v1-1-nightly\n",
        "!pip install -q gradio==3.50.2 xformers==0.0.25 einops open_clip_torch pytorch_lightning==1.7.7 omegaconf torchmetrics==0.11.4\n",
        "!pip install -q git+https://github.com/camenduru/BasicSR@dev\n",
        "!pip uninstall torchtext -y\n",
        "\n",
        "!apt -y install -qq aria2\n",
        "!aria2c --console-log-level=error -c -x 16 -s 16 -k 1M https://huggingface.co/gsdf/Counterfeit-V3.0/resolve/main/Counterfeit-V3.0_fix_fp16.safetensors -d /content/ControlNet-v1-1-nightly/models -o anything-v3-full.safetensors\n",
        "!aria2c --console-log-level=error -c -x 16 -s 16 -k 1M https://huggingface.co/lllyasviel/ControlNet-v1-1/resolve/main/control_v11p_sd15s2_lineart_anime.pth -d /content/ControlNet-v1-1-nightly/models -o control_v11p_sd15s2_lineart_anime.pth \n",
        "\n",
        "%cd /content/ControlNet-v1-1-nightly\n",
        "!sed -i \"s/block.launch(server_name='0.0.0.0')/block.launch(server_name='0.0.0.0', share=True)/g\" gradio_lineart_anime.py\n",
        "!python gradio_lineart_anime.py"
      ]
    }
  ],
  "metadata": {
    "accelerator": "GPU",
    "colab": {
      "provenance": []
    },
    "gpuClass": "standard",
    "kernelspec": {
      "display_name": "Python 3",
      "name": "python3"
    },
    "language_info": {
      "name": "python"
    }
  },
  "nbformat": 4,
  "nbformat_minor": 0
}
